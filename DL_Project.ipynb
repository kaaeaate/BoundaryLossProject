{
 "cells": [
  {
   "cell_type": "code",
   "execution_count": null,
   "metadata": {
    "id": "FCL0wP2-E_rI"
   },
   "outputs": [],
   "source": [
    "# import gc\n",
    "# import torch\n",
    "# gc.collect()\n",
    "# torch.cuda.empty_cache()"
   ]
  },
  {
   "cell_type": "code",
   "execution_count": 2,
   "metadata": {
    "colab": {
     "base_uri": "https://localhost:8080/"
    },
    "id": "gqYORxWKPku1",
    "outputId": "1cc3cb43-232b-46ac-f6d0-559efac30d99"
   },
   "outputs": [
    {
     "name": "stdout",
     "output_type": "stream",
     "text": [
      "Fri May 28 08:45:49 2021       \n",
      "+-----------------------------------------------------------------------------+\n",
      "| NVIDIA-SMI 465.19.01    Driver Version: 460.32.03    CUDA Version: 11.2     |\n",
      "|-------------------------------+----------------------+----------------------+\n",
      "| GPU  Name        Persistence-M| Bus-Id        Disp.A | Volatile Uncorr. ECC |\n",
      "| Fan  Temp  Perf  Pwr:Usage/Cap|         Memory-Usage | GPU-Util  Compute M. |\n",
      "|                               |                      |               MIG M. |\n",
      "|===============================+======================+======================|\n",
      "|   0  Tesla T4            Off  | 00000000:00:04.0 Off |                    0 |\n",
      "| N/A   51C    P8    10W /  70W |      0MiB / 15109MiB |      0%      Default |\n",
      "|                               |                      |                  N/A |\n",
      "+-------------------------------+----------------------+----------------------+\n",
      "                                                                               \n",
      "+-----------------------------------------------------------------------------+\n",
      "| Processes:                                                                  |\n",
      "|  GPU   GI   CI        PID   Type   Process name                  GPU Memory |\n",
      "|        ID   ID                                                   Usage      |\n",
      "|=============================================================================|\n",
      "|  No running processes found                                                 |\n",
      "+-----------------------------------------------------------------------------+\n"
     ]
    }
   ],
   "source": [
    "!nvidia-smi"
   ]
  },
  {
   "cell_type": "code",
   "execution_count": 3,
   "metadata": {
    "id": "L9efFVZ7vN5e"
   },
   "outputs": [],
   "source": [
    "import numpy as np\n",
    "import matplotlib.pyplot as plt\n",
    "%matplotlib inline\n",
    "import os\n",
    "from sklearn.model_selection import train_test_split\n",
    "from pathlib import Path\n",
    "import torchvision\n",
    "import torch\n",
    "from torchvision import datasets, transforms, models\n",
    "from torch.utils.data import Dataset, DataLoader\n",
    "from PIL import Image\n",
    "import random\n",
    "import cv2\n",
    "\n",
    "import pandas as pd\n",
    "import shutil\n",
    "\n",
    "from scipy.ndimage import distance_transform_edt as eucl_distance\n",
    "from typing import Any, Callable, Iterable, List, Set, Tuple, TypeVar, Union, cast\n",
    "from functools import partial, reduce\n",
    "from operator import itemgetter, mul\n",
    "from torch import Tensor, einsum"
   ]
  },
  {
   "cell_type": "markdown",
   "metadata": {
    "id": "hlBvkEp-XDr1"
   },
   "source": [
    "### Please enter the parameters"
   ]
  },
  {
   "cell_type": "code",
   "execution_count": 4,
   "metadata": {
    "id": "-Jy8IfLXXC60"
   },
   "outputs": [],
   "source": [
    "# Dataset options:\n",
    "#    - Hippocampus-2D\n",
    "#    - Heart-2D\n",
    "#    - Heart-2D_onlyimage\n",
    "dataset = 'Heart-2D_onlyimage'\n",
    "\n",
    "# Model options:\n",
    "#    - U-Net\n",
    "#    - Attention_U-Net\n",
    "Model = 'U-Net'\n",
    "\n",
    "# Loss options:\n",
    "#    - GeneralizedDice\n",
    "#    - CrossEntropy\n",
    "#    - FocalLoss\n",
    "Loss = 'CrossEntropy'\n",
    "\n",
    "# Boundary_loss options:\n",
    "#    - True\n",
    "#    - False\n",
    "Boundary_option = 'True'\n",
    "\n",
    "n_epochs = 50\n",
    "\n",
    "ALPHA = 0.01"
   ]
  },
  {
   "cell_type": "code",
   "execution_count": 1,
   "metadata": {
    "colab": {
     "base_uri": "https://localhost:8080/"
    },
    "id": "jMNKH21dXhj4",
    "outputId": "09519967-8fad-4587-90fd-eff1b9095380"
   },
   "outputs": [],
   "source": [
    "if dataset == 'Hippocampus-2D':\n",
    "    path = './Hippocampus-2D'\n",
    "    K = 3\n",
    "    # %cd '/content'\n",
    "    ! gdown --id '1GyTS7KzudC9glm0KZr4qyU5Txfz2PI5c'\n",
    "    ! unzip 'Hippocampus-2D.zip'\n",
    "    path = 'Hippocampus-2D'\n",
    "    batch_size = 8\n",
    "\n",
    "elif dataset == 'Heart-2D':\n",
    "    path = './Heart-2D'\n",
    "    K = 2\n",
    "    # %cd '/content'\n",
    "    ! gdown --id '1VLE1H7IHhVaf04PzVV5yHXstey1ecz5L'\n",
    "    ! unzip 'Heart-2D.zip'\n",
    "    path = 'Heart-2D'\n",
    "    batch_size = 8\n",
    "\n",
    "elif dataset == 'Heart-2D_onlyimage':\n",
    "    path = './Heart-2D_onlyimage'\n",
    "    K = 2\n",
    "    # %cd '/content'\n",
    "    ! gdown --id '1wlXQlhQbpOf6T-su7e3X9vc-Xj_6kc_J'\n",
    "    ! unzip 'Heart-2D_onlyimage.zip'\n",
    "    path = 'Heart-2D_onlyimage'\n",
    "    batch_size = 8\n",
    "\n",
    "else:\n",
    "    print('Such a dataset does not exist for these experiments')\n",
    "\n",
    "set_classes = list(range(K))"
   ]
  },
  {
   "cell_type": "markdown",
   "metadata": {
    "id": "zX6Hw7zh1Rhj"
   },
   "source": [
    "### Functions"
   ]
  },
  {
   "cell_type": "code",
   "execution_count": 15,
   "metadata": {
    "id": "NcznY6lDG5jJ"
   },
   "outputs": [],
   "source": [
    "### asserts \n",
    "\n",
    "def sset(a, sub):\n",
    "    return uniq(a).issubset(sub)  \n",
    "\n",
    "def uniq(a):\n",
    "    return set(torch.unique(a.cpu()).numpy())\n",
    "\n",
    "def one_hot(t, axis=1):\n",
    "    return simplex(t, axis) and sset(t, set_classes)  \n",
    "\n",
    "def simplex(t, axis=1):                                                          \n",
    "    _sum = cast(Tensor, t.sum(axis).type(torch.float32))                        \n",
    "    _ones = torch.ones_like(_sum, dtype=torch.float32)\n",
    "    return torch.allclose(_sum, _ones)  "
   ]
  },
  {
   "cell_type": "code",
   "execution_count": 16,
   "metadata": {
    "id": "qBQ4HDNAHPI7"
   },
   "outputs": [],
   "source": [
    "class Transforms():\n",
    "  def __init__(self, resolution, K):\n",
    "\n",
    "      self.K = K\n",
    "      self.resolution = resolution\n",
    "      self.encods = Encoding()\n",
    "\n",
    "      self.image_transform = transforms.Compose([\n",
    "            lambda img: cv2.cvtColor(img, cv2.COLOR_BGR2GRAY), \n",
    "            lambda img: img[np.newaxis, ...], \n",
    "            lambda img: img / 255,  \n",
    "            lambda img: torch.tensor(img, dtype=torch.float32)\n",
    "      ])\n",
    "\n",
    "      self.mask_transform = transforms.Compose([\n",
    "            lambda img: img[...],\n",
    "            lambda img: torch.tensor(img, dtype=torch.int64)[None, ...],\n",
    "            partial(self.encods.one_hot_encoding, K=self.K),\n",
    "            itemgetter(0)  \n",
    "      ])\n",
    "\n",
    "\n",
    "      self.dist_map_transform = transforms.Compose([\n",
    "            self.mask_transform,\n",
    "            lambda img: img.cpu().numpy(),\n",
    "            partial(self.encods.dist_encoding, resolution=self.resolution),                   \n",
    "            lambda img: torch.tensor(img, dtype=torch.float32) \n",
    "      ])\n",
    "     \n",
    "\n",
    "  def forward(self, img, transform_type):\n",
    "        if transform_type == 'img':\n",
    "          return self.image_transform(img)\n",
    "\n",
    "        if transform_type == 'mask':\n",
    "          return self.mask_transform(img)\n",
    "\n",
    "        if transform_type == 'dist_map':\n",
    "          return self.dist_map_transform(img)\n"
   ]
  },
  {
   "cell_type": "code",
   "execution_count": 17,
   "metadata": {
    "id": "PO1d3mvUJKym"
   },
   "outputs": [],
   "source": [
    "class Encoding():\n",
    "  def __init__(self):\n",
    "      super().__init__()\n",
    "\n",
    "  def one_hot_encoding(self, mask_input, K):\n",
    "    assert sset(mask_input, list(range(K))), (uniq(mask_input), K)\n",
    "\n",
    "    b, *img_shape = mask_input.shape  \n",
    "    device = mask_input.device\n",
    "\n",
    "    output = torch.zeros((b, K, *img_shape), dtype=torch.int64, device=device).scatter_(1, mask_input[:, None, ...], 1)\n",
    "    \n",
    "    assert output.shape == (b, K, *img_shape)\n",
    "    assert one_hot(output)\n",
    "    return output \n",
    "\n",
    "  def dist_encoding(self, mask, resolution, dtype=None):                                  \n",
    "    assert one_hot(torch.tensor(mask), axis=0)                                   \n",
    "    K = len(mask)                                                                \n",
    "\n",
    "    output = np.zeros_like(mask, dtype=dtype)\n",
    "\n",
    "    for k in range(K):\n",
    "        posmask = mask[k].astype(np.bool)\n",
    "\n",
    "        if posmask.any():                                                      \n",
    "            negmask = ~posmask\n",
    "            output[k] = eucl_distance(negmask, sampling=resolution) * negmask - (eucl_distance(posmask, sampling=resolution) - 1) * posmask\n",
    "            # res1 = cv2.distanceTransform(np.array(negmask, dtype='uint8'), distanceType=cv2.DIST_L2, maskSize=5).astype(np.float32)\n",
    "            # res2 = cv2.distanceTransform(np.array(posmask, dtype='uint8'), distanceType=cv2.DIST_L2, maskSize=5).astype(np.float32)\n",
    "            # output[k] = res1 * negmask - (res2-1) * posmask  \n",
    "\n",
    "    return output"
   ]
  },
  {
   "cell_type": "code",
   "execution_count": 18,
   "metadata": {
    "id": "v-xiu9T9HEB1"
   },
   "outputs": [],
   "source": [
    "class Boundary_Loss():\n",
    "    def __init__(self, idc):\n",
    "        self.idc = idc                                              \n",
    "\n",
    "    def __call__(self, probs, dist_maps):\n",
    "        assert simplex(probs)                                                    \n",
    "        assert not one_hot(dist_maps)\n",
    "\n",
    "        prob = probs[:, self.idc, ...].type(torch.float32)                        \n",
    "        dist_map = dist_maps[:, self.idc, ...].type(torch.float32)\n",
    "\n",
    "        multipled = einsum(\"bkwh,bkwh->bkwh\", prob, dist_map)                           \n",
    "        loss = multipled.mean()                                               \n",
    "        return loss\n",
    "\n",
    "BoundaryLoss = Boundary_Loss                                                   "
   ]
  },
  {
   "cell_type": "code",
   "execution_count": 19,
   "metadata": {
    "id": "jEMxZGg09t9k"
   },
   "outputs": [],
   "source": [
    "def plotting(masks, K):\n",
    "  fig, axs = plt.subplots(ncols=K, sharex=True, figsize=(15, 15))\n",
    "  for i in range(K):\n",
    "    axs[i].imshow(masks[i], cmap='seismic', interpolation='none')\n",
    "    axs[i].title.set_text('Class: {}'.format(i))\n",
    "  plt.show()\n",
    "  "
   ]
  },
  {
   "cell_type": "code",
   "execution_count": 20,
   "metadata": {
    "id": "Ip_oeP2kIbWp"
   },
   "outputs": [],
   "source": [
    "def plot_one_mask(masks, num_class):\n",
    "  final_mask = np.zeros_like(masks[0])\n",
    "  for i in range (num_class):\n",
    "    final_mask[masks[i] > 0.3] = i\n",
    "  \n",
    "  plt.imshow(final_mask, cmap='seismic', interpolation='none')\n",
    "  plt.show()"
   ]
  },
  {
   "cell_type": "markdown",
   "metadata": {
    "id": "NDZ3O8fvTraC"
   },
   "source": [
    "### Dataloader"
   ]
  },
  {
   "cell_type": "code",
   "execution_count": 21,
   "metadata": {
    "id": "u5Fb-P0wDJUD"
   },
   "outputs": [],
   "source": [
    "class MyDataset(Dataset):\n",
    "    def __init__(self, images_folder, masks_folder, K):\n",
    "        super(Dataset, self).__init__()\n",
    "        \n",
    "        self.K = K\n",
    "        self.images_folder = images_folder\n",
    "        self.masks_folder = masks_folder\n",
    "        self.images_names = np.sort(os.listdir(images_folder))\n",
    "        self.masks_names = np.sort(os.listdir(masks_folder))\n",
    "        self.transform = Transforms([1, 1], self.K)\n",
    "\n",
    "    def __len__(self):\n",
    "        return len(self.images_names)\n",
    "    \n",
    "    def __getitem__(self, idx):\n",
    "        item_image = cv2.imread(os.path.join(self.images_folder,\n",
    "                                            self.images_names[idx]))   \n",
    "        item_mask = cv2.imread(os.path.join(self.masks_folder,\n",
    "                                              self.masks_names[idx]))\n",
    "        item_mask = cv2.cvtColor(item_mask, cv2.COLOR_BGR2GRAY)\n",
    "        \n",
    "        SEED = np.random.randint(123456789)\n",
    "        if self.transform is not None:\n",
    "            random.seed(SEED)\n",
    "            image_tensor = self.transform.forward(item_image, 'img')     \n",
    "            one_hot_tensor = self.transform.forward(item_mask, 'mask')\n",
    "            dist_map_tensor = self.transform.forward(item_mask, 'dist_map')\n",
    "      \n",
    "\n",
    "        return image_tensor, one_hot_tensor, dist_map_tensor"
   ]
  },
  {
   "cell_type": "code",
   "execution_count": 22,
   "metadata": {
    "id": "Gompcl7MEcYo"
   },
   "outputs": [],
   "source": [
    "train_set = MyDataset(images_folder = path + '/train/img/', \n",
    "                      masks_folder = path + '/train/gt', K=K)\n",
    "\n",
    "\n",
    "val_set = MyDataset(images_folder = path + '/val/img/', \n",
    "                      masks_folder = path + '/val/gt', K=K)"
   ]
  },
  {
   "cell_type": "code",
   "execution_count": 25,
   "metadata": {
    "colab": {
     "base_uri": "https://localhost:8080/"
    },
    "id": "XUckPuRO1Rhl",
    "outputId": "94f8ed21-23b9-4732-9eb9-802149aa4147"
   },
   "outputs": [
    {
     "name": "stdout",
     "output_type": "stream",
     "text": [
      "1622\n",
      "1622\n",
      "649\n",
      "649\n"
     ]
    }
   ],
   "source": [
    "print(len(train_set.images_names))\n",
    "print(len(train_set.masks_names))\n",
    "print(len(val_set.images_names))\n",
    "print(len(val_set.masks_names))"
   ]
  },
  {
   "cell_type": "markdown",
   "metadata": {
    "id": "7LHo91txUVrQ"
   },
   "source": [
    "### Import files with losses and models"
   ]
  },
  {
   "cell_type": "code",
   "execution_count": 26,
   "metadata": {
    "colab": {
     "base_uri": "https://localhost:8080/"
    },
    "id": "5cgeUXfmCciR",
    "outputId": "57c32299-7f4e-48ba-e720-ec462a2f168e"
   },
   "outputs": [
    {
     "name": "stdout",
     "output_type": "stream",
     "text": [
      "fatal: destination path 'BoundaryLossProject' already exists and is not an empty directory.\n"
     ]
    }
   ],
   "source": [
    "! git clone https://github.com/kaaeaate/BoundaryLossProject"
   ]
  },
  {
   "cell_type": "code",
   "execution_count": 27,
   "metadata": {
    "id": "4uZBmPotfgBy"
   },
   "outputs": [],
   "source": [
    "## If you don't want to clone git repo, you can download needed files with code below\n",
    "\n",
    "# ! gdown --id '1G-qIa21Ouxac0UNRRiO0v-Qo_HB_Oj2f'\n",
    "# ! gdown --id '1YK1LRF9MesidzIZRSGkdshKdiZh2KsQT'\n",
    "# ! gdown --id '16kzaMQteWcjqXbyZLWwNhCdQPzD2FawD'"
   ]
  },
  {
   "cell_type": "code",
   "execution_count": 28,
   "metadata": {
    "colab": {
     "base_uri": "https://localhost:8080/"
    },
    "id": "-s3ip7Tr1Rhl",
    "outputId": "20ad5955-1d0a-4ddc-c6d2-e0783340c154"
   },
   "outputs": [
    {
     "data": {
      "text/plain": [
       "{'train': 1622, 'val': 649}"
      ]
     },
     "execution_count": 28,
     "metadata": {
      "tags": []
     },
     "output_type": "execute_result"
    }
   ],
   "source": [
    "image_datasets = {\n",
    "    'train': train_set, 'val': val_set\n",
    "}\n",
    "\n",
    "batch_size_train = batch_size\n",
    "batch_size_val = batch_size_train\n",
    "\n",
    "dataloaders = {\n",
    "    'train': DataLoader(train_set, batch_size=batch_size_train, shuffle=True, num_workers=0),\n",
    "    'val': DataLoader(val_set, batch_size=batch_size_val, shuffle=True, num_workers=0)\n",
    "}\n",
    "\n",
    "dataset_sizes = {\n",
    "    x: len(image_datasets[x]) for x in image_datasets.keys()\n",
    "}\n",
    "\n",
    "dataset_sizes"
   ]
  },
  {
   "cell_type": "code",
   "execution_count": 29,
   "metadata": {
    "colab": {
     "base_uri": "https://localhost:8080/"
    },
    "id": "0sqsx54T1Rhm",
    "outputId": "2a43bd21-fd59-4e08-f3d6-f4abe6eb5c41"
   },
   "outputs": [
    {
     "name": "stdout",
     "output_type": "stream",
     "text": [
      "Image shape: torch.Size([8, 1, 128, 128])\n",
      "Mask shape: torch.Size([8, 2, 128, 128])\n",
      "0.0 0.8392157 0.0898413 0.1367945\n",
      "0 1 0.5 0.5\n"
     ]
    }
   ],
   "source": [
    "# See example of images\n",
    "\n",
    "import torchvision.utils\n",
    "\n",
    "def reverse_transform(inp):\n",
    "    inp = inp.numpy().transpose((1, 2, 0))\n",
    "    inp = np.clip(inp, 0, 1)\n",
    "    inp = (inp * 255).astype(np.uint8)\n",
    "    \n",
    "    return inp\n",
    "\n",
    "# Get a batch of training data\n",
    "inputs, masks, dist_map = next(iter(dataloaders['train']))\n",
    "\n",
    "print('Image shape:', inputs.shape)\n",
    "print('Mask shape:', masks.shape)\n",
    "for x in [inputs.numpy(), masks.numpy()]:\n",
    "    print(x.min(), x.max(), x.mean(), x.std())"
   ]
  },
  {
   "cell_type": "code",
   "execution_count": 33,
   "metadata": {
    "colab": {
     "base_uri": "https://localhost:8080/",
     "height": 444
    },
    "id": "lnb2I__xmA3C",
    "outputId": "1435bc01-a501-4210-e6da-837eaa06fa0d"
   },
   "outputs": [
    {
     "data": {
      "image/png": "[encoded data removed]",
      "text/plain": [
       "<Figure size 1080x1080 with 2 Axes>"
      ]
     },
     "metadata": {
      "needs_background": "light",
      "tags": []
     },
     "output_type": "display_data"
    }
   ],
   "source": [
    "batch_number = 2\n",
    "plotting(masks[batch_number], masks.shape[1])"
   ]
  },
  {
   "cell_type": "code",
   "execution_count": 34,
   "metadata": {
    "colab": {
     "base_uri": "https://localhost:8080/",
     "height": 268
    },
    "id": "wI2xjSiiHnc3",
    "outputId": "67b118b0-8824-4b73-c147-15b75712fd93"
   },
   "outputs": [
    {
     "data": {
      "image/png": "[encoded data removed]",
      "text/plain": [
       "<Figure size 432x288 with 1 Axes>"
      ]
     },
     "metadata": {
      "needs_background": "light",
      "tags": []
     },
     "output_type": "display_data"
    }
   ],
   "source": [
    "plot_one_mask(masks[batch_number], masks.shape[1])"
   ]
  },
  {
   "cell_type": "markdown",
   "metadata": {
    "id": "iriOuYg01Rhn"
   },
   "source": [
    "# Start the model"
   ]
  },
  {
   "cell_type": "code",
   "execution_count": 23,
   "metadata": {
    "id": "KT-4MsHJc7lE"
   },
   "outputs": [],
   "source": [
    "import math\n",
    "import copy\n",
    "from collections import defaultdict\n",
    "import torch.nn.functional as F  \n",
    "from BoundaryLossProject.metrics import dice_loss\n",
    "from tqdm.notebook import tqdm\n",
    "import matplotlib.pyplot as plt\n",
    "from torch.utils.tensorboard import SummaryWriter\n",
    "import torch\n",
    "import torch.nn as nn\n",
    "import numpy as np"
   ]
  },
  {
   "cell_type": "code",
   "execution_count": 24,
   "metadata": {
    "id": "lb9HPToF1Rho"
   },
   "outputs": [],
   "source": [
    "import warnings\n",
    "warnings.filterwarnings('ignore')"
   ]
  },
  {
   "cell_type": "markdown",
   "metadata": {
    "id": "4PyyAAQdm-nN"
   },
   "source": [
    "### Losses"
   ]
  },
  {
   "cell_type": "code",
   "execution_count": 25,
   "metadata": {
    "id": "8LnQqCXmd9RL"
   },
   "outputs": [],
   "source": [
    "class GeneralizedDice():\n",
    "    def __init__(self, idc):\n",
    "        self.idc = idc\n",
    "\n",
    "    def __call__(self, probs, target):\n",
    "        assert simplex(probs) and simplex(target)\n",
    "\n",
    "        pc = probs[:, self.idc, ...].type(torch.float32)\n",
    "        tc = target[:, self.idc, ...].type(torch.float32)\n",
    "\n",
    "        w = 1 / ((einsum(\"bkwh->bk\", tc).type(torch.float32) + 1e-10) ** 2)\n",
    "        intersection = w * einsum(\"bkwh,bkwh->bk\", pc, tc)\n",
    "        union = w * (einsum(\"bkwh->bk\", pc) + einsum(\"bkwh->bk\", tc))\n",
    "\n",
    "        divided = 1 - 2 * (einsum(\"bk->b\", intersection) + 1e-10) / (einsum(\"bk->b\", union) + 1e-10)\n",
    "\n",
    "        loss = divided.mean()\n",
    "\n",
    "        return loss"
   ]
  },
  {
   "cell_type": "code",
   "execution_count": 26,
   "metadata": {
    "id": "YwNg-90ShpkY"
   },
   "outputs": [],
   "source": [
    "class CrossEntropy():\n",
    "    def __init__(self, idc):\n",
    "        self.idc: List[int] = idc\n",
    "\n",
    "    def __call__(self, probs, target):\n",
    "        assert simplex(probs) and simplex(target)\n",
    "\n",
    "        log_p = (probs[:, self.idc, ...] + 1e-10).log()\n",
    "        mask = cast(Tensor, target[:, self.idc, ...].type(torch.float32))\n",
    "\n",
    "        loss = - einsum(\"bkwh,bkwh->\", mask, log_p)\n",
    "        loss /= mask.sum() + 1e-10\n",
    "\n",
    "        return loss"
   ]
  },
  {
   "cell_type": "code",
   "execution_count": 27,
   "metadata": {
    "id": "3lnCrUWVh-nV"
   },
   "outputs": [],
   "source": [
    "class FocalLoss():\n",
    "    def __init__(self, idc, gamma=2):\n",
    "        self.idc = idc\n",
    "        self.gamma = gamma\n",
    "\n",
    "    def __call__(self, probs, target):\n",
    "        assert simplex(probs) and simplex(target)\n",
    "\n",
    "        masked_probs = probs[:, self.idc, ...]\n",
    "        log_p = (masked_probs + 1e-10).log()\n",
    "        mask = cast(Tensor, target[:, self.idc, ...].type(torch.float32))\n",
    "\n",
    "        w = (1 - masked_probs)**self.gamma\n",
    "        loss = - einsum(\"bkwh,bkwh,bkwh->\", w, mask, log_p)\n",
    "        loss /= mask.sum() + 1e-10\n",
    "\n",
    "        return loss"
   ]
  },
  {
   "cell_type": "code",
   "execution_count": 28,
   "metadata": {
    "id": "xNLxUBZBNxIm"
   },
   "outputs": [],
   "source": [
    "class DiceLoss():\n",
    "    def __init__(self, idc):\n",
    "        self.idc = idc\n",
    "\n",
    "    def __call__(self, probs, target):\n",
    "        assert simplex(probs) and simplex(target)\n",
    "\n",
    "        pc = probs[:, self.idc, ...].type(torch.float32)\n",
    "        tc = target[:, self.idc, ...].type(torch.float32)\n",
    "\n",
    "        intersection = einsum(\"bcwh,bcwh->bc\", pc, tc)\n",
    "        union = (einsum(\"bkwh->bk\", pc) + einsum(\"bkwh->bk\", tc))\n",
    "\n",
    "        divided = torch.ones_like(intersection) - (2 * intersection + 1e-10) / (union + 1e-10)\n",
    "\n",
    "        loss = divided.mean()\n",
    "\n",
    "        return loss"
   ]
  },
  {
   "cell_type": "markdown",
   "metadata": {
    "id": "Q5GsBKy1Y8aC"
   },
   "source": [
    "### Metrics"
   ]
  },
  {
   "cell_type": "code",
   "execution_count": 31,
   "metadata": {
    "id": "Tu4vvP6yNlMs"
   },
   "outputs": [],
   "source": [
    "def meta_dice(sum_str, label, pred, smooth = 1e-8) -> Tensor:\n",
    "    assert label.shape == pred.shape\n",
    "    assert one_hot(label)\n",
    "    assert one_hot(pred)\n",
    "\n",
    "    inter_size = einsum(sum_str, [intersection(label, pred)]).type(torch.float32)\n",
    "    sum_sizes = (einsum(sum_str, [label]) + einsum(sum_str, [pred])).type(torch.float32)\n",
    "\n",
    "    dices: Tensor = (2 * inter_size + smooth) / (sum_sizes + smooth)\n",
    "\n",
    "    return dices\n",
    "\n",
    "\n",
    "dice_coef = partial(meta_dice, \"bk...->bk\")\n",
    "\n",
    "\n",
    "def intersection(a: Tensor, b: Tensor) -> Tensor:\n",
    "    assert a.shape == b.shape\n",
    "    assert sset(a, [0, 1])\n",
    "    assert sset(b, [0, 1])\n",
    "\n",
    "    res = a & b\n",
    "    assert sset(res, [0, 1])\n",
    "\n",
    "    return res\n",
    "\n",
    "\n",
    "def union(a: Tensor, b: Tensor) -> Tensor:\n",
    "    assert a.shape == b.shape\n",
    "    assert sset(a, [0, 1])\n",
    "    assert sset(b, [0, 1])\n",
    "\n",
    "    res = a | b\n",
    "    assert sset(res, [0, 1])\n",
    "\n",
    "    return res\n"
   ]
  },
  {
   "cell_type": "markdown",
   "metadata": {
    "id": "Ljm1wYbPnKjt"
   },
   "source": [
    "### Model"
   ]
  },
  {
   "cell_type": "code",
   "execution_count": 32,
   "metadata": {
    "id": "9e4qVzyPEbcK"
   },
   "outputs": [],
   "source": [
    "def target_to_one_mask(masks, num_class):\n",
    "  final_mask = torch.zeros_like(masks[0])\n",
    "  for i in range (num_class):\n",
    "    final_mask[masks[i] > 0.5] = i\n",
    "  return final_mask"
   ]
  },
  {
   "cell_type": "code",
   "execution_count": 33,
   "metadata": {
    "id": "yBaVUI3hfop6"
   },
   "outputs": [],
   "source": [
    "def calc_loss(pred, target, dist_map_label, metrics, Loss, set_classes, K):\n",
    "\n",
    "    if Loss == 'GeneralizedDice':\n",
    "        loss = GeneralizedDice(idc=set_classes)\n",
    "    elif Loss == 'CrossEntropy':\n",
    "        loss = CrossEntropy(idc=set_classes)\n",
    "    elif Loss == 'FocalLoss':  \n",
    "        loss = FocalLoss(idc=set_classes, gamma=2)\n",
    "    else:\n",
    "        print('Such loss is not used in these experiments')\n",
    "\n",
    "    pred_probs = F.softmax(pred, dim=1)\n",
    "    main_loss = loss(pred_probs, target)\n",
    "\n",
    "    if Boundary_option == 'True':\n",
    "        alpha = ALPHA\n",
    "        boundary_loss = BoundaryLoss(idc=set_classes) \n",
    "        bl_loss = boundary_loss(pred_probs, dist_map_label)  \n",
    "        total_loss = main_loss + alpha * bl_loss\n",
    "        metrics['boundary'] += bl_loss.data.cpu().numpy() * target.size(0)\n",
    "    if Boundary_option == 'False':\n",
    "        total_loss = main_loss \n",
    "\n",
    "    dice, dice2 = dice_loss(pred_probs, target)  \n",
    "    metric_dice = DiceLoss(idc=set_classes)\n",
    "    milti_dice = metric_dice(pred_probs, target)\n",
    "\n",
    "    endoder = Encoding()\n",
    "    new_mask = torch.zeros([target.shape[0], target.shape[2], target.shape[3]], dtype=torch.int64)\n",
    "    for b in range(new_mask.shape[0]):\n",
    "        new_mask[b] = target_to_one_mask(target[b], K)\n",
    "    new_target = endoder.one_hot_encoding(new_mask, K)\n",
    "\n",
    "    new_probs = torch.zeros([pred_probs.shape[0], pred_probs.shape[2], pred_probs.shape[3]], dtype=torch.int64)\n",
    "    for b in range(new_probs.shape[0]):\n",
    "        new_probs[b] = target_to_one_mask(pred_probs[b], K)\n",
    "    new_preds = endoder.one_hot_encoding(new_probs, K)\n",
    "\n",
    "    dsc = dice_coef(new_preds, new_target).mean()\n",
    "\n",
    "    metrics['dice_binar'] += dice2.data.cpu().numpy() * target.size(0)\n",
    "    metrics['old_DSC'] += dsc.data.cpu().numpy() * target.size(0)\n",
    "    metrics['DSC'] += (1.- milti_dice.data.cpu().numpy()) * target.size(0)\n",
    "\n",
    "    metrics[Loss] += main_loss.data.cpu().numpy() * target.size(0)\n",
    "    metrics['loss'] += total_loss.data.cpu().numpy() * target.size(0)\n",
    "    \n",
    "    return total_loss\n",
    "\n",
    "def print_metrics(metrics, epoch_samples, phase):    \n",
    "    outputs = []\n",
    "    for k in metrics.keys():\n",
    "        outputs.append(\"{}: {:4f}\".format(k, metrics[k] / epoch_samples))\n",
    "        \n",
    "    print(\"{}: {}\".format(phase, \", \".join(outputs)))  "
   ]
  },
  {
   "cell_type": "code",
   "execution_count": 34,
   "metadata": {
    "id": "L65onVBQbtTz"
   },
   "outputs": [],
   "source": [
    "models_dir_loss = 'models_loss'\n",
    "models_dir_dsc = 'models_dsc'\n",
    "files_dir = \"times_txt\" \n",
    "logs_base_dir = './logs_' + dataset\n",
    "os.makedirs(logs_base_dir, exist_ok=True)\n",
    "os.makedirs(models_dir_loss, exist_ok=True)\n",
    "os.makedirs(models_dir_dsc, exist_ok=True)\n",
    "os.makedirs(files_dir, exist_ok=True)"
   ]
  },
  {
   "cell_type": "code",
   "execution_count": 35,
   "metadata": {
    "id": "kvo6lJbFKfRh"
   },
   "outputs": [],
   "source": [
    "def train_model(model, optimizer, scheduler, experiment_name, Loss, set_classes, K, num_epochs, weights):\n",
    "    best_model_wts = copy.deepcopy(model.state_dict())\n",
    "    best_loss = 1e10\n",
    "    best_dsc = 0.\n",
    "    time_sum = 0.\n",
    "    epoches = []\n",
    "    \n",
    "    writer = SummaryWriter(f'{logs_base_dir}/{experiment_name}')\n",
    "\n",
    "    metrics_dice_train = []\n",
    "    metrics_dice_val = []\n",
    "    for epoch in tqdm(range(num_epochs)):\n",
    "        print('Epoch {}/{}'.format(epoch, num_epochs - 1))\n",
    "        print('-' * 10)\n",
    "        \n",
    "        since = time.time()\n",
    "\n",
    "        # Each epoch has a training and validation phase\n",
    "        for phase in ['train', 'val']:\n",
    "            if phase == 'train':\n",
    "                scheduler.step()\n",
    "                for param_group in optimizer.param_groups:\n",
    "                    print(\"LR\", param_group['lr'])\n",
    "                    \n",
    "                model.train()  \n",
    "            else:\n",
    "                model.eval()   \n",
    "\n",
    "            metrics = defaultdict(float)\n",
    "            epoch_samples = 0\n",
    "            \n",
    "            for inputs, labels, dist_map_label in dataloaders[phase]:\n",
    "\n",
    "                inputs = inputs.to(device)\n",
    "                labels = labels.to(device) \n",
    "                dist_map_label = dist_map_label.to(device)\n",
    "                optimizer.zero_grad()\n",
    "\n",
    "                # forward\n",
    "                with torch.set_grad_enabled(phase == 'train'):\n",
    "                    outputs = model(inputs)\n",
    "                    pred = F.softmax(outputs, dim=1) \n",
    "                    loss = calc_loss(outputs, labels, dist_map_label, metrics, Loss, set_classes, K)\n",
    "\n",
    "                    # backward + optimize only if in training phase\n",
    "                    if phase == 'train':\n",
    "                        loss.backward()\n",
    "                        optimizer.step()\n",
    "\n",
    "                # statistics\n",
    "                epoch_samples += inputs.size(0)\n",
    "\n",
    "            plot_one_mask(labels[0].detach().cpu().numpy(),K)\n",
    "            plot_one_mask(pred[0].detach().cpu().numpy(),K)\n",
    "            print_metrics(metrics, epoch_samples, phase)\n",
    "\n",
    "\n",
    "            epoch_dice2 = metrics['old_DSC'] / epoch_samples\n",
    "            writer.add_scalar(f'old_DSC_{phase}', epoch_dice2.item(), global_step=epoch)\n",
    "\n",
    "            dsc_epoch = metrics['DSC'] / epoch_samples\n",
    "            writer.add_scalar(f'DSC_{phase}', dsc_epoch.item(), global_step=epoch)\n",
    "\n",
    "\n",
    "            main_loss = metrics[Loss] / epoch_samples\n",
    "            writer.add_scalar(f'{Loss}_{phase}', main_loss.item(), global_step=epoch)\n",
    "\n",
    "            if Boundary_option == 'True':\n",
    "                epoch_boundary = metrics['boundary'] / epoch_samples\n",
    "                writer.add_scalar(f'Boundary_value_{phase}', epoch_boundary.item(), global_step=epoch)\n",
    "\n",
    "\n",
    "            epoch_dice = metrics['dice_binar'] / epoch_samples\n",
    "            writer.add_scalar(f'old_DICE_binar_{phase}', epoch_dice.item(), global_step=epoch)\n",
    "\n",
    "            epoch_loss = metrics['loss'] / epoch_samples\n",
    "            writer.add_scalar(f'Loss_{phase}', epoch_loss.item(), global_step=epoch)\n",
    "\n",
    "            \n",
    "            if phase == 'val' and epoch_loss < best_loss:\n",
    "                print(\"saving best model with loss\")\n",
    "                best_loss = epoch_loss\n",
    "                best_model_wts_loss = copy.deepcopy(model.state_dict())\n",
    "                # load best model weights\n",
    "                model.load_state_dict(best_model_wts_loss) \n",
    "                if weights == 'yes':\n",
    "                    torch.save (model, f\"{models_dir_loss}/loss_model_\" + Model + '_' + '_' + dataset + '_' + Loss + '_' + Boundary_option  + \".pth\")  #### save model\n",
    "\n",
    "            if phase == 'val' and dsc_epoch > best_dsc:\n",
    "                print(\"saving best model with dsc\")\n",
    "                best_dsc = dsc_epoch\n",
    "                best_model_wts_dsc = copy.deepcopy(model.state_dict())\n",
    "                print('Best val DSC: {:4f}'.format(best_dsc))\n",
    "                # load best model weights\n",
    "                model.load_state_dict(best_model_wts_dsc) \n",
    "                if weights == 'yes':\n",
    "                    torch.save (model, f\"{models_dir_dsc}/dsc_model_\" + Model + '_' + '_' + dataset + '_' + Loss + '_' + Boundary_option  + \".pth\")  #### save model\n",
    "\n",
    "        time_elapsed = time.time() - since\n",
    "        time_sum += time_elapsed\n",
    "        file_name = \"time_\" + Model + '_' + '_' + dataset + '_' + Loss + '_' + Boundary_option \n",
    "        with open(f\"{files_dir}/{file_name}.txt\",\"a\") as the_file:\n",
    "            the_file.write('Epoch {}/{}:'.format(epoch, num_epochs - 1) + '  ' + str('{:.0f}m {:.0f}s'.format(time_elapsed // 60, time_elapsed % 60))+'\\n')\n",
    "\n",
    "        print('{:.0f}m {:.0f}s'.format(time_elapsed // 60, time_elapsed % 60))\n",
    "    print('Best val DSC: {:4f}'.format(best_dsc))\n",
    "\n",
    "    with open(f\"{files_dir}/{file_name}.txt\",\"a\") as the_file:\n",
    "        the_file.write('Total time:' + '  ' + str('{:.0f}m {:.0f}s'.format(time_sum // 60, time_sum % 60))+'\\n')\n",
    "\n",
    "    return model"
   ]
  },
  {
   "cell_type": "code",
   "execution_count": 36,
   "metadata": {
    "colab": {
     "base_uri": "https://localhost:8080/",
     "height": 838
    },
    "id": "7cVMu2e1CupM",
    "outputId": "ec20c6bc-3bbd-4ee5-fbf2-d6b80649d3cd"
   },
   "outputs": [
    {
     "data": {
      "text/plain": [
       "Reusing TensorBoard on port 6006 (pid 128), started 0:13:25 ago. (Use '!kill 128' to kill it.)"
      ]
     },
     "metadata": {
      "tags": []
     },
     "output_type": "display_data"
    },
    {
     "data": {
      "application/javascript": [
       "\n",
       "        (async () => {\n",
       "            const url = new URL(await google.colab.kernel.proxyPort(6006, {'cache': true}));\n",
       "            url.searchParams.set('tensorboardColab', 'true');\n",
       "            const iframe = document.createElement('iframe');\n",
       "            iframe.src = url;\n",
       "            iframe.setAttribute('width', '100%');\n",
       "            iframe.setAttribute('height', '800');\n",
       "            iframe.setAttribute('frameborder', 0);\n",
       "            document.body.appendChild(iframe);\n",
       "        })();\n",
       "    "
      ],
      "text/plain": [
       "<IPython.core.display.Javascript object>"
      ]
     },
     "metadata": {
      "tags": []
     },
     "output_type": "display_data"
    }
   ],
   "source": [
    "%load_ext tensorboard\n",
    "logs_base_dir = './logs_' + dataset\n",
    "%tensorboard --logdir {logs_base_dir}"
   ]
  },
  {
   "cell_type": "markdown",
   "metadata": {
    "id": "6DIpNd8pGODw"
   },
   "source": [
    "# Run model"
   ]
  },
  {
   "cell_type": "code",
   "execution_count": 2,
   "metadata": {
    "colab": {
     "base_uri": "https://localhost:8080/",
     "height": 1000,
     "referenced_widgets": [
      "edf1a44e65c54604a2883402224bde14",
      "1fad127f6d924292b82497ab8908f044",
      "f17e6b8430b6459a9ce480f2e0caa31e",
      "25d75545ff7447e9a237036628786db2",
      "76d0155cffdd4e48b2dd10099795ab79",
      "9bb86e8d9d684e20bf6be01debc08267",
      "b8347e6cc8e04689b506b6e5b44c6c17",
      "eb576fd071ea41a7b31d24814f9e8ca7"
     ]
    },
    "id": "pJ9C4aEOKi0m",
    "outputId": "7669e835-4f1f-4c75-d80d-e58b4c4eb7d9"
   },
   "outputs": [],
   "source": [
    "import torch\n",
    "import torch.optim as optim\n",
    "from torch.optim import lr_scheduler\n",
    "import time\n",
    "import copy\n",
    "from BoundaryLossProject import unet\n",
    "from BoundaryLossProject import  attention_unet\n",
    "import helper\n",
    "from datetime import datetime \n",
    "\n",
    "device = torch.device(\"cuda:0\" if torch.cuda.is_available() else \"cpu\")\n",
    "print(device)\n",
    "\n",
    "num_class = K\n",
    "\n",
    "if Model == 'U-Net':\n",
    "    model = unet.UNet(1, num_class).to(device)\n",
    "elif Model == 'Attention_U-Net':\n",
    "    model = attention_unet.AttU_Net(img_ch=1,output_ch=num_class).to(device)\n",
    "else:\n",
    "    print('Your model is not exist')\n",
    "\n",
    "\n",
    "# Optimizer\n",
    "optimizer_ft = optim.Adam(model.parameters(), lr=1e-3)\n",
    "\n",
    "exp_name = datetime.now().isoformat(timespec='minutes') + '_' + Model + '_' + dataset + '_' + Loss + '_' + Boundary_option\n",
    "\n",
    "exp_lr_scheduler = lr_scheduler.StepLR(optimizer_ft, step_size=25, gamma=0.1)\n",
    "\n",
    "model = train_model(model, optimizer_ft, exp_lr_scheduler, \n",
    "                    experiment_name=exp_name, Loss=Loss, set_classes=set_classes, K=K, num_epochs=n_epochs, weights='yes') "
   ]
  },
  {
   "cell_type": "code",
   "execution_count": null,
   "metadata": {
    "id": "JVXOiQ4TEXuc"
   },
   "outputs": [],
   "source": [
    "import math\n",
    "import helper\n",
    "\n",
    "model.eval()   \n",
    "val_batch = torch.utils.data.DataLoader(val_set,\n",
    "                                            batch_size=4,\n",
    "                                            shuffle=True)\n",
    "        \n",
    "inputs, labels, dist = next(iter(val_batch))\n",
    "inputs = inputs.to(device)\n",
    "labels = labels.to(device)\n",
    "\n",
    "pred = model(inputs)\n",
    "pred = pred.data.cpu().numpy()\n",
    "print(pred.shape)\n",
    "inputs = inputs.cpu()\n",
    "labels = labels.cpu().numpy()"
   ]
  },
  {
   "cell_type": "code",
   "execution_count": null,
   "metadata": {
    "id": "PjpCF1wUljAH"
   },
   "outputs": [],
   "source": [
    "i=0\n",
    "j=1\n",
    "plt.imshow(inputs[i][1])\n",
    "plt.show()"
   ]
  },
  {
   "cell_type": "code",
   "execution_count": null,
   "metadata": {
    "id": "IyN10Ox5CzpA"
   },
   "outputs": [],
   "source": [
    "i=1\n",
    "j=1\n",
    "plt.imshow(labels[i][j])\n",
    "plt.show"
   ]
  },
  {
   "cell_type": "code",
   "execution_count": null,
   "metadata": {
    "id": "A6OKvqyPF5AG"
   },
   "outputs": [],
   "source": [
    "pred = pred >0.3\n",
    "plt.imshow(pred[i][j])\n",
    "plt.show"
   ]
  },
  {
   "cell_type": "code",
   "execution_count": null,
   "metadata": {
    "id": "sbCKpB5-WQ_T"
   },
   "outputs": [],
   "source": [
    "plot_one_mask(pred[i],K)"
   ]
  },
  {
   "cell_type": "code",
   "execution_count": null,
   "metadata": {
    "id": "qOoBnVZtfj5M"
   },
   "outputs": [],
   "source": []
  }
 ],
 "metadata": {
  "accelerator": "GPU",
  "colab": {
   "collapsed_sections": [],
   "name": "DL_Project.ipynb",
   "provenance": []
  },
  "kernelspec": {
   "display_name": "Python 3",
   "language": "python",
   "name": "python3"
  },
  "language_info": {
   "codemirror_mode": {
    "name": "ipython",
    "version": 3
   },
   "file_extension": ".py",
   "mimetype": "text/x-python",
   "name": "python",
   "nbconvert_exporter": "python",
   "pygments_lexer": "ipython3",
   "version": "3.7.7"
  },
  "widgets": {
   "application/vnd.jupyter.widget-state+json": {
    "1fad127f6d924292b82497ab8908f044": {
     "model_module": "@jupyter-widgets/base",
     "model_name": "LayoutModel",
     "state": {
      "_model_module": "@jupyter-widgets/base",
      "_model_module_version": "1.2.0",
      "_model_name": "LayoutModel",
      "_view_count": null,
      "_view_module": "@jupyter-widgets/base",
      "_view_module_version": "1.2.0",
      "_view_name": "LayoutView",
      "align_content": null,
      "align_items": null,
      "align_self": null,
      "border": null,
      "bottom": null,
      "display": null,
      "flex": null,
      "flex_flow": null,
      "grid_area": null,
      "grid_auto_columns": null,
      "grid_auto_flow": null,
      "grid_auto_rows": null,
      "grid_column": null,
      "grid_gap": null,
      "grid_row": null,
      "grid_template_areas": null,
      "grid_template_columns": null,
      "grid_template_rows": null,
      "height": null,
      "justify_content": null,
      "justify_items": null,
      "left": null,
      "margin": null,
      "max_height": null,
      "max_width": null,
      "min_height": null,
      "min_width": null,
      "object_fit": null,
      "object_position": null,
      "order": null,
      "overflow": null,
      "overflow_x": null,
      "overflow_y": null,
      "padding": null,
      "right": null,
      "top": null,
      "visibility": null,
      "width": null
     }
    },
    "25d75545ff7447e9a237036628786db2": {
     "model_module": "@jupyter-widgets/controls",
     "model_name": "HTMLModel",
     "state": {
      "_dom_classes": [],
      "_model_module": "@jupyter-widgets/controls",
      "_model_module_version": "1.5.0",
      "_model_name": "HTMLModel",
      "_view_count": null,
      "_view_module": "@jupyter-widgets/controls",
      "_view_module_version": "1.5.0",
      "_view_name": "HTMLView",
      "description": "",
      "description_tooltip": null,
      "layout": "IPY_MODEL_eb576fd071ea41a7b31d24814f9e8ca7",
      "placeholder": "​",
      "style": "IPY_MODEL_b8347e6cc8e04689b506b6e5b44c6c17",
      "value": " 2/50 [02:33&lt;1:01:23, 76.74s/it]"
     }
    },
    "76d0155cffdd4e48b2dd10099795ab79": {
     "model_module": "@jupyter-widgets/controls",
     "model_name": "ProgressStyleModel",
     "state": {
      "_model_module": "@jupyter-widgets/controls",
      "_model_module_version": "1.5.0",
      "_model_name": "ProgressStyleModel",
      "_view_count": null,
      "_view_module": "@jupyter-widgets/base",
      "_view_module_version": "1.2.0",
      "_view_name": "StyleView",
      "bar_color": null,
      "description_width": "initial"
     }
    },
    "9bb86e8d9d684e20bf6be01debc08267": {
     "model_module": "@jupyter-widgets/base",
     "model_name": "LayoutModel",
     "state": {
      "_model_module": "@jupyter-widgets/base",
      "_model_module_version": "1.2.0",
      "_model_name": "LayoutModel",
      "_view_count": null,
      "_view_module": "@jupyter-widgets/base",
      "_view_module_version": "1.2.0",
      "_view_name": "LayoutView",
      "align_content": null,
      "align_items": null,
      "align_self": null,
      "border": null,
      "bottom": null,
      "display": null,
      "flex": null,
      "flex_flow": null,
      "grid_area": null,
      "grid_auto_columns": null,
      "grid_auto_flow": null,
      "grid_auto_rows": null,
      "grid_column": null,
      "grid_gap": null,
      "grid_row": null,
      "grid_template_areas": null,
      "grid_template_columns": null,
      "grid_template_rows": null,
      "height": null,
      "justify_content": null,
      "justify_items": null,
      "left": null,
      "margin": null,
      "max_height": null,
      "max_width": null,
      "min_height": null,
      "min_width": null,
      "object_fit": null,
      "object_position": null,
      "order": null,
      "overflow": null,
      "overflow_x": null,
      "overflow_y": null,
      "padding": null,
      "right": null,
      "top": null,
      "visibility": null,
      "width": null
     }
    },
    "b8347e6cc8e04689b506b6e5b44c6c17": {
     "model_module": "@jupyter-widgets/controls",
     "model_name": "DescriptionStyleModel",
     "state": {
      "_model_module": "@jupyter-widgets/controls",
      "_model_module_version": "1.5.0",
      "_model_name": "DescriptionStyleModel",
      "_view_count": null,
      "_view_module": "@jupyter-widgets/base",
      "_view_module_version": "1.2.0",
      "_view_name": "StyleView",
      "description_width": ""
     }
    },
    "eb576fd071ea41a7b31d24814f9e8ca7": {
     "model_module": "@jupyter-widgets/base",
     "model_name": "LayoutModel",
     "state": {
      "_model_module": "@jupyter-widgets/base",
      "_model_module_version": "1.2.0",
      "_model_name": "LayoutModel",
      "_view_count": null,
      "_view_module": "@jupyter-widgets/base",
      "_view_module_version": "1.2.0",
      "_view_name": "LayoutView",
      "align_content": null,
      "align_items": null,
      "align_self": null,
      "border": null,
      "bottom": null,
      "display": null,
      "flex": null,
      "flex_flow": null,
      "grid_area": null,
      "grid_auto_columns": null,
      "grid_auto_flow": null,
      "grid_auto_rows": null,
      "grid_column": null,
      "grid_gap": null,
      "grid_row": null,
      "grid_template_areas": null,
      "grid_template_columns": null,
      "grid_template_rows": null,
      "height": null,
      "justify_content": null,
      "justify_items": null,
      "left": null,
      "margin": null,
      "max_height": null,
      "max_width": null,
      "min_height": null,
      "min_width": null,
      "object_fit": null,
      "object_position": null,
      "order": null,
      "overflow": null,
      "overflow_x": null,
      "overflow_y": null,
      "padding": null,
      "right": null,
      "top": null,
      "visibility": null,
      "width": null
     }
    },
    "edf1a44e65c54604a2883402224bde14": {
     "model_module": "@jupyter-widgets/controls",
     "model_name": "HBoxModel",
     "state": {
      "_dom_classes": [],
      "_model_module": "@jupyter-widgets/controls",
      "_model_module_version": "1.5.0",
      "_model_name": "HBoxModel",
      "_view_count": null,
      "_view_module": "@jupyter-widgets/controls",
      "_view_module_version": "1.5.0",
      "_view_name": "HBoxView",
      "box_style": "",
      "children": [
       "IPY_MODEL_f17e6b8430b6459a9ce480f2e0caa31e",
       "IPY_MODEL_25d75545ff7447e9a237036628786db2"
      ],
      "layout": "IPY_MODEL_1fad127f6d924292b82497ab8908f044"
     }
    },
    "f17e6b8430b6459a9ce480f2e0caa31e": {
     "model_module": "@jupyter-widgets/controls",
     "model_name": "FloatProgressModel",
     "state": {
      "_dom_classes": [],
      "_model_module": "@jupyter-widgets/controls",
      "_model_module_version": "1.5.0",
      "_model_name": "FloatProgressModel",
      "_view_count": null,
      "_view_module": "@jupyter-widgets/controls",
      "_view_module_version": "1.5.0",
      "_view_name": "ProgressView",
      "bar_style": "",
      "description": "  4%",
      "description_tooltip": null,
      "layout": "IPY_MODEL_9bb86e8d9d684e20bf6be01debc08267",
      "max": 50,
      "min": 0,
      "orientation": "horizontal",
      "style": "IPY_MODEL_76d0155cffdd4e48b2dd10099795ab79",
      "value": 2
     }
    }
   }
  }
 },
 "nbformat": 4,
 "nbformat_minor": 1
}
